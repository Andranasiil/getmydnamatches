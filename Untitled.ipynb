{
 "cells": [
  {
   "cell_type": "code",
   "execution_count": 1,
   "metadata": {},
   "outputs": [
    {
     "name": "stdout",
     "output_type": "stream",
     "text": [
      "Enter AncestryDNA username: bob\n"
     ]
    },
    {
     "data": {
      "text/plain": [
       "'bob'"
      ]
     },
     "execution_count": 1,
     "metadata": {},
     "output_type": "execute_result"
    }
   ],
   "source": [
    "input(\"Enter AncestryDNA username: \")"
   ]
  },
  {
   "cell_type": "code",
   "execution_count": null,
   "metadata": {},
   "outputs": [],
   "source": []
  },
  {
   "cell_type": "code",
   "execution_count": null,
   "metadata": {},
   "outputs": [],
   "source": [
    "   def login(self):\n",
    "        url = 'https://www.ancestry.com/account/signin' # 'https://www.ancestry.com/secure/login'\n",
    "        data = { 'username': self.username, 'password': self.password}\n",
    "        while True:\n",
    "            if self.verbose:\n",
    "                self.logfile.write('[' + time.strftime(\"%Y-%m-%d %H:%M:%S\") + ']: Downloading: ' + url + '\\n')\n",
    "            try:\n",
    "                r = self.s.post(url, data = data, timeout = self.timeout)\n",
    "            except requests.exceptions.ReadTimeout:\n",
    "                if self.verbose:\n",
    "                    self.logfile.write('[' + time.strftime(\"%Y-%m-%d %H:%M:%S\") + ']: Read timed out\\n')\n",
    "                continue\n",
    "            except requests.exceptions.ConnectionError:\n",
    "                if self.verbose:\n",
    "                    self.logfile.write('[' + time.strftime(\"%Y-%m-%d %H:%M:%S\") + ']: Connection aborted\\n')\n",
    "                time.sleep(self.timeout)\n",
    "                continue\n",
    "            if self.verbose:\n",
    "                self.logfile.write('[' + time.strftime(\"%Y-%m-%d %H:%M:%S\") + ']: Status code: ' + str(r.status_code) + '\\n')\n",
    "            cookies = requests.utils.dict_from_cookiejar(self.s.cookies)\n",
    "            self.cookies = { 'ATT': cookies['ATT'] }\n",
    "            return"
   ]
  }
 ],
 "metadata": {
  "kernelspec": {
   "display_name": "gputest",
   "language": "python",
   "name": "gputest"
  },
  "language_info": {
   "codemirror_mode": {
    "name": "ipython",
    "version": 3
   },
   "file_extension": ".py",
   "mimetype": "text/x-python",
   "name": "python",
   "nbconvert_exporter": "python",
   "pygments_lexer": "ipython3",
   "version": "3.7.3"
  }
 },
 "nbformat": 4,
 "nbformat_minor": 2
}
